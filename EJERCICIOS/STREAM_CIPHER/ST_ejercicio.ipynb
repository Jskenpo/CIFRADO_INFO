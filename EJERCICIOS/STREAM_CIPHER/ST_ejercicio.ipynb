{
 "cells": [
  {
   "cell_type": "code",
   "execution_count": 1,
   "metadata": {},
   "outputs": [],
   "source": [
    "import os\n",
    "import numpy as np"
   ]
  },
  {
   "cell_type": "markdown",
   "metadata": {},
   "source": [
    "## Ejercicio stream cipher"
   ]
  },
  {
   "cell_type": "code",
   "execution_count": null,
   "metadata": {},
   "outputs": [],
   "source": [
    "def generate_keystream(length, seed=None):\n",
    "    if seed is not None:\n",
    "        np.random.seed(seed)\n",
    "    return np.random.randint(0, 256, length, dtype=np.uint8)"
   ]
  },
  {
   "cell_type": "code",
   "execution_count": 3,
   "metadata": {},
   "outputs": [],
   "source": [
    "def xor_encrypt_decrypt(message, keystream):\n",
    "    \n",
    "    return bytes([m ^ k for m, k in zip(message, keystream)])"
   ]
  },
  {
   "cell_type": "code",
   "execution_count": 5,
   "metadata": {},
   "outputs": [
    {
     "name": "stdout",
     "output_type": "stream",
     "text": [
      "Mensaje cifrado: b'#\\xaf\\x950\\x93X\\x99\\xeb)m\\x03\\xd3~\\xe7\\x80K\\x08\\x95'\n",
      "Mensaje descifrado: Esto es una prueba\n"
     ]
    }
   ],
   "source": [
    "mensaje_original = \"Esto es una prueba\".encode()  # Convertimos el mensaje a bytes\n",
    "seed = 42  # Semilla para reproducibilidad\n",
    "keystream = generate_keystream(len(mensaje_original), seed)\n",
    "\n",
    "# Cifrado\n",
    "mensaje_cifrado = xor_encrypt_decrypt(mensaje_original, keystream)\n",
    "print(f\"Mensaje cifrado: {mensaje_cifrado}\")\n",
    "\n",
    "# Descifrado\n",
    "mensaje_descifrado = xor_encrypt_decrypt(mensaje_cifrado, keystream)\n",
    "print(f\"Mensaje descifrado: {mensaje_descifrado.decode()}\")  # Convertimos de bytes a string\n"
   ]
  },
  {
   "cell_type": "markdown",
   "metadata": {},
   "source": [
    "## Pruebas unitarias"
   ]
  },
  {
   "cell_type": "code",
   "execution_count": null,
   "metadata": {},
   "outputs": [],
   "source": [
    "import unittest\n",
    "\n",
    "class TestXORCipher(unittest.TestCase):\n",
    "    \n",
    "    def test_keystream_length(self):\n",
    "        #Verifica que el keystream generado tenga la longitud correcta\n",
    "        message_length = 20\n",
    "        keystream = generate_keystream(message_length, seed=42)\n",
    "        self.assertEqual(len(keystream), message_length)\n",
    "\n",
    "    def test_xor_encrypt_decrypt(self):\n",
    "        #Verifica que cifrar y luego descifrar un mensaje devuelve el original\n",
    "        message = \"Prueba de cifrado\".encode()\n",
    "        seed = 123  # Usamos una semilla para pruebas reproducibles\n",
    "        keystream = generate_keystream(len(message), seed)\n",
    "\n",
    "        encrypted_message = xor_encrypt_decrypt(message, keystream)\n",
    "        decrypted_message = xor_encrypt_decrypt(encrypted_message, keystream)\n",
    "\n",
    "        self.assertEqual(decrypted_message, message)  # Debe coincidir con el original\n",
    "\n",
    "    def test_xor_symmetry(self):\n",
    "        #Verifica que aplicar XOR dos veces con el mismo keystream devuelve el original\n",
    "        data = b\"Mensaje secreto\"\n",
    "        key = generate_keystream(len(data), seed=99)\n",
    "\n",
    "        encrypted = xor_encrypt_decrypt(data, key)\n",
    "        decrypted = xor_encrypt_decrypt(encrypted, key)\n",
    "\n",
    "        self.assertEqual(decrypted, data)\n",
    "\n",
    "    def test_different_keys_produce_different_results(self):\n",
    "        #Verifica que usar keystreams diferentes da resultados diferentes\n",
    "        message = \"Hola mundo!\".encode()\n",
    "        key1 = generate_keystream(len(message), seed=1)\n",
    "        key2 = generate_keystream(len(message), seed=2)\n",
    "\n",
    "        encrypted1 = xor_encrypt_decrypt(message, key1)\n",
    "        encrypted2 = xor_encrypt_decrypt(message, key2)\n",
    "\n",
    "        self.assertNotEqual(encrypted1, encrypted2)  # Los cifrados deben ser diferentes\n",
    "\n"
   ]
  },
  {
   "cell_type": "code",
   "execution_count": 7,
   "metadata": {},
   "outputs": [
    {
     "name": "stderr",
     "output_type": "stream",
     "text": [
      "test_different_keys_produce_different_results (__main__.TestXORCipher.test_different_keys_produce_different_results)\n",
      "Verifica que usar keystreams diferentes da resultados diferentes. ... ok\n",
      "test_keystream_length (__main__.TestXORCipher.test_keystream_length)\n",
      "Verifica que el keystream generado tenga la longitud correcta. ... ok\n",
      "test_xor_encrypt_decrypt (__main__.TestXORCipher.test_xor_encrypt_decrypt)\n",
      "Verifica que cifrar y luego descifrar un mensaje devuelve el original. ... ok\n",
      "test_xor_symmetry (__main__.TestXORCipher.test_xor_symmetry)\n",
      "Verifica que aplicar XOR dos veces con el mismo keystream devuelve el original. ... ok\n",
      "\n",
      "----------------------------------------------------------------------\n",
      "Ran 4 tests in 0.015s\n",
      "\n",
      "OK\n"
     ]
    },
    {
     "data": {
      "text/plain": [
       "<unittest.main.TestProgram at 0x231d8b23850>"
      ]
     },
     "execution_count": 7,
     "metadata": {},
     "output_type": "execute_result"
    }
   ],
   "source": [
    "unittest.main(argv=[''], verbosity=2, exit=False)"
   ]
  },
  {
   "cell_type": "markdown",
   "metadata": {},
   "source": [
    "\n",
    "# Análisis de Seguridad del Keystream en un Cifrado XOR\n",
    "\n",
    "## 1. ¿Qué sucede cuando cambias la clave utilizada para generar el keystream?  \n",
    "Cuando se cambia la clave (seed/nonce) utilizada para inicializar el generador de números pseudoaleatorios (PRNG), se obtiene un keystream completamente diferente. Esto significa que el mensaje cifrado con una clave determinada no podrá ser descifrado con otra clave distinta, ya que el keystream usado en el cifrado y descifrado debe ser exactamente el mismo.  \n",
    "\n",
    "## 2. ¿Qué riesgos de seguridad existen si reutilizas el mismo keystream para cifrar dos mensajes diferentes?  \n",
    "Si reutilizas el mismo keystream para cifrar dos mensajes distintos, un atacante puede compararlos y descubrir información sobre los mensajes originales.\n",
    "\n",
    "Esto sucede porque en el cifrado XOR, cada letra del mensaje se combina con el keystream de la misma manera. Si dos mensajes distintos usan el mismo keystream, un atacante que tenga ambos mensajes cifrados puede hacer un cálculo simple para eliminar el keystream y obtener una relación directa entre los mensajes originales.\n",
    "\n",
    "## 3. ¿Cómo afecta la longitud del keystream a la seguridad del cifrado?  \n",
    "  \n",
    "- **Debe ser al menos del mismo tamaño que el mensaje:** Si el keystream es más corto, se repetirá, lo que permite a un atacante identificar patrones y debilitar el cifrado, similar a reutilizar la misma clave.  \n",
    "\n",
    "- **Lo ideal es que sea tan largo como el mensaje:** Si cada bit del mensaje se cifra con un bit único del keystream, se obtiene una mejor seguridad, similar a un cifrado de un solo uso (One-Time Pad), que es teóricamente irrompible si el keystream es completamente aleatorio y usado solo una vez.  \n",
    "\n",
    "- **Si es demasiado corto o predecible:** Un atacante podría analizar los mensajes cifrados y descubrir el keystream, lo que le permitiría descifrar futuros mensajes o incluso reconstruir los originales. Esto es especialmente peligroso si el keystream se genera con un método poco seguro o una clave predecible.\n",
    "\n",
    "### ¿Qué debes tener en cuenta al generar un keystream en un entorno real?  \n",
    "\n",
    "- **Usar un generador de números aleatorios seguro:** Es importante que el keystream sea realmente aleatorio. Para ello, se deben usar fuentes seguras como `os.urandom()` (para efectos de este ejercicio en python), en lugar de generadores débiles como `rand()` o `numpy.random`, que pueden ser predecibles.  \n",
    "\n",
    "- **No reutilizar claves:** Si el keystream se genera a partir de una clave, cada mensaje debe usar un valor único para evitar que un atacante descubra patrones y comprometa la seguridad del cifrado.  \n",
    "\n",
    "- **Asegurar la sincronización en sistemas distribuidos:** Si el cifrado y descifrado ocurren en diferentes dispositivos, es fundamental que ambos usen exactamente el mismo keystream. De lo contrario, el mensaje no podrá descifrarse correctamente.  \n",
    "\n"
   ]
  }
 ],
 "metadata": {
  "kernelspec": {
   "display_name": "Python 3",
   "language": "python",
   "name": "python3"
  },
  "language_info": {
   "codemirror_mode": {
    "name": "ipython",
    "version": 3
   },
   "file_extension": ".py",
   "mimetype": "text/x-python",
   "name": "python",
   "nbconvert_exporter": "python",
   "pygments_lexer": "ipython3",
   "version": "3.11.7"
  }
 },
 "nbformat": 4,
 "nbformat_minor": 2
}
